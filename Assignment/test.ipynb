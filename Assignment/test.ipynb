{
 "cells": [
  {
   "cell_type": "code",
   "execution_count": 1,
   "metadata": {},
   "outputs": [
    {
     "name": "stdout",
     "output_type": "stream",
     "text": [
      "Combined LaTeX document created: combined_document.tex\n"
     ]
    }
   ],
   "source": [
    "def combine_latex_files(file_list, output_file):\n",
    "    with open(output_file, 'w') as outfile:\n",
    "        # Write the document class and usepackage only once at the beginning\n",
    "        outfile.write(\"\\\\documentclass{article}\\n\")\n",
    "        outfile.write(\"\\\\usepackage{amsmath}\\n\")\n",
    "        outfile.write(\"\\\\begin{document}\\n\\n\")\n",
    "\n",
    "        for fname in file_list:\n",
    "            with open(fname) as infile:\n",
    "                # Skip the document class and usepackage lines in individual files\n",
    "                lines = infile.readlines()\n",
    "                skip_lines = [\"\\\\documentclass{article}\\n\", \"\\\\usepackage{amsmath}\\n\", \"\\\\begin{document}\\n\", \"\\\\end{document}\\n\"]\n",
    "                for line in lines:\n",
    "                    if line not in skip_lines:\n",
    "                        outfile.write(line)\n",
    "                outfile.write(\"\\n\")  # Add a newline for separation between contents of different files\n",
    "\n",
    "        # End the document at the end of the combined file\n",
    "        outfile.write(\"\\\\end{document}\\n\")\n",
    "\n",
    "\n",
    "# List of individual LaTeX files\n",
    "file_list = [\n",
    "    'f1.tex',\n",
    "    'f2.tex',\n",
    "    'f3.tex',\n",
    "    'f4.tex',\n",
    "    'f5.tex',\n",
    "    'f6.tex',\n",
    "    'f7.tex',\n",
    "    'f8.tex',\n",
    "    'f9.tex'\n",
    "]\n",
    "\n",
    "# Name of the output combined LaTeX file\n",
    "output_file = 'combined_document.tex'\n",
    "\n",
    "# Combine the files\n",
    "combine_latex_files(file_list, output_file)\n",
    "\n",
    "print(f\"Combined LaTeX document created: {output_file}\")\n"
   ]
  },
  {
   "cell_type": "code",
   "execution_count": null,
   "metadata": {},
   "outputs": [],
   "source": []
  }
 ],
 "metadata": {
  "kernelspec": {
   "display_name": "sage",
   "language": "python",
   "name": "python3"
  },
  "language_info": {
   "codemirror_mode": {
    "name": "ipython",
    "version": 3
   },
   "file_extension": ".py",
   "mimetype": "text/x-python",
   "name": "python",
   "nbconvert_exporter": "python",
   "pygments_lexer": "ipython3",
   "version": "3.11.9"
  }
 },
 "nbformat": 4,
 "nbformat_minor": 2
}
